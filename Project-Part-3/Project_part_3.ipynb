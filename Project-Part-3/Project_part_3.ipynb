{
  "nbformat": 4,
  "nbformat_minor": 0,
  "metadata": {
    "colab": {
      "name": "Project_part-3.ipynb",
      "provenance": [],
      "collapsed_sections": []
    },
    "kernelspec": {
      "name": "python3",
      "display_name": "Python 3"
    },
    "language_info": {
      "name": "python"
    },
    "accelerator": "GPU"
  },
  "cells": [
    {
      "cell_type": "code",
      "metadata": {
        "id": "zaBWA3r2ijg9"
      },
      "source": [
        "import scipy.io as sio\n",
        "import os\n",
        "import numpy as np\n",
        "import keras\n",
        "from keras.models import Sequential\n",
        "from keras.layers import Dense, Dropout, Flatten, Conv2D, MaxPool2D\n",
        "from keras import backend as K\n",
        "from keras.utils import to_categorical\n",
        "from keras.preprocessing.image import ImageDataGenerator"
      ],
      "execution_count": null,
      "outputs": []
    },
    {
      "cell_type": "code",
      "metadata": {
        "colab": {
          "base_uri": "https://localhost:8080/"
        },
        "id": "lpg_w_u4KJeQ",
        "outputId": "bee0a1ab-d143-4ae7-83ef-0c6935711133"
      },
      "source": [
        "# mounting the google drive for dataset loading\n",
        "from google.colab import drive\n",
        "drive.mount('/content/drive')"
      ],
      "execution_count": null,
      "outputs": [
        {
          "output_type": "stream",
          "text": [
            "Drive already mounted at /content/drive; to attempt to forcibly remount, call drive.mount(\"/content/drive\", force_remount=True).\n"
          ],
          "name": "stdout"
        }
      ]
    },
    {
      "cell_type": "code",
      "metadata": {
        "id": "hJDzX27DjGH9"
      },
      "source": [
        "# Change this path to load data from your location of dataset\n",
        "data_dir = \"/content/drive/MyDrive/SML-project-part-3\"\n",
        "trX = sio.loadmat(os.path.join(data_dir, 'train_32x32.mat'))['X']\n",
        "trY = sio.loadmat(os.path.join(data_dir, 'train_32x32.mat'))['y']\n",
        "tsX = sio.loadmat(os.path.join(data_dir, 'test_32x32.mat'))['X']\n",
        "tsY = sio.loadmat(os.path.join(data_dir, 'test_32x32.mat'))['y']"
      ],
      "execution_count": null,
      "outputs": []
    },
    {
      "cell_type": "code",
      "metadata": {
        "id": "dKkl-lY3zwE6"
      },
      "source": [
        "# normalizng the images to get them between 0.0 to 1.0\n",
        "trX = trX/255.0\n",
        "tsX = tsX/255.0"
      ],
      "execution_count": null,
      "outputs": []
    },
    {
      "cell_type": "code",
      "metadata": {
        "id": "BfNmezb8jrO9"
      },
      "source": [
        "# Hyperparameters\n",
        "batch_size = 16\n",
        "num_epochs = 15\n",
        "# Dynamically extractng classes to make sure not to miss any\n",
        "classes = np.unique(trY)\n",
        "num_classes = len(classes)\n",
        "# converting the data to one-hot encoded format for model to process it\n",
        "trY = to_categorical(y=trY, num_classes=num_classes)\n",
        "tsY = to_categorical(y=tsY, num_classes=num_classes)"
      ],
      "execution_count": null,
      "outputs": []
    },
    {
      "cell_type": "code",
      "metadata": {
        "id": "aHLp6Q9clSEF"
      },
      "source": [
        "# input shape for first Conv2D layer\n",
        "input_shape = trX.shape[1:]\n",
        "\n",
        "# Image data generator object, Not using anywhere though\n",
        "# datagen = ImageDataGenerator(rescale=1.0/255.0)\n",
        "# train_iterator = datagen.flow(trX, trY, batch_size=batch_size)\n",
        "# test_iterator = datagen.flow(tsX, tsY, batch_size=batch_size*2)"
      ],
      "execution_count": null,
      "outputs": []
    },
    {
      "cell_type": "code",
      "metadata": {
        "id": "xFobxg1llTR4"
      },
      "source": [
        "# model architecture as per the description in the project requirement\n",
        "model = Sequential(\n",
        "    [\n",
        "     Conv2D(64, (5,5), (1,1), 'same', activation='relu', input_shape=input_shape),\n",
        "     MaxPool2D(pool_size=(2,2), strides=(2,2)),\n",
        "     Conv2D(64, (5,5), (1,1), 'same', activation='relu'),\n",
        "     MaxPool2D(pool_size=(2,2), strides=(2,2)),\n",
        "     Conv2D(128, (5,5), (1,1), 'same', activation='relu'),\n",
        "     Flatten(),\n",
        "     Dense(3072, 'relu'),\n",
        "     Dense(2048, 'relu'),\n",
        "     Dense(num_classes, 'softmax'),\n",
        "     ])"
      ],
      "execution_count": null,
      "outputs": []
    },
    {
      "cell_type": "code",
      "metadata": {
        "colab": {
          "base_uri": "https://localhost:8080/"
        },
        "id": "7fVgzY4boJgH",
        "outputId": "e580cf1d-8c81-4fac-8f8a-a73ae40cd1ca"
      },
      "source": [
        "# Using the SGD optimizer with learning rate =0.01\n",
        "optim = keras.optimizers.SGD(learning_rate=0.01)\n",
        "# compiling model with loss function and the optimizer\n",
        "model.compile(loss = 'categorical_crossentropy', optimizer=optim, metrics=['accuracy'])\n",
        "\n",
        "# Call back for saving best model's check point\n",
        "# This can be used to resume training in the future from best checkpoint\n",
        "# checkpoint_filepath = \"/content/checkpoint\"\n",
        "# model_checkpoint_callback = keras.callbacks.ModelCheckpoint(\n",
        "#     filepath=checkpoint_filepath,\n",
        "#     save_weights_only=True,\n",
        "#     monitor='val_accuracy',\n",
        "#     mode='max',\n",
        "#     save_best_only=True)\n",
        "\n",
        "# Tranining method for Keras, Various required parameters are added, increasing \n",
        "# batch size for validation dataset\n",
        "history = model.fit(trX, trY, validation_data=(tsX, tsY),\n",
        "                    epochs=num_epochs, batch_size=batch_size,\n",
        "                    validation_batch_size=batch_size*2)\n",
        "                    # callbacks=[model_checkpoint_callback])"
      ],
      "execution_count": null,
      "outputs": [
        {
          "output_type": "stream",
          "text": [
            "Epoch 1/15\n",
            "4579/4579 [==============================] - 38s 8ms/step - loss: 1.9530 - accuracy: 0.3058 - val_loss: 0.6055 - val_accuracy: 0.8235\n",
            "Epoch 2/15\n",
            "4579/4579 [==============================] - 34s 7ms/step - loss: 0.4827 - accuracy: 0.8581 - val_loss: 0.4307 - val_accuracy: 0.8739\n",
            "Epoch 3/15\n",
            "4579/4579 [==============================] - 34s 7ms/step - loss: 0.3327 - accuracy: 0.9019 - val_loss: 0.3593 - val_accuracy: 0.8950\n",
            "Epoch 4/15\n",
            "4579/4579 [==============================] - 34s 7ms/step - loss: 0.2581 - accuracy: 0.9245 - val_loss: 0.3492 - val_accuracy: 0.9015\n",
            "Epoch 5/15\n",
            "4579/4579 [==============================] - 34s 7ms/step - loss: 0.2016 - accuracy: 0.9422 - val_loss: 0.4498 - val_accuracy: 0.8626\n",
            "Epoch 6/15\n",
            "4579/4579 [==============================] - 34s 7ms/step - loss: 0.1577 - accuracy: 0.9558 - val_loss: 0.3385 - val_accuracy: 0.9082\n",
            "Epoch 7/15\n",
            "4579/4579 [==============================] - 34s 7ms/step - loss: 0.1179 - accuracy: 0.9673 - val_loss: 0.3331 - val_accuracy: 0.9162\n",
            "Epoch 8/15\n",
            "4579/4579 [==============================] - 34s 7ms/step - loss: 0.0853 - accuracy: 0.9757 - val_loss: 0.3833 - val_accuracy: 0.9123\n",
            "Epoch 9/15\n",
            "4579/4579 [==============================] - 34s 7ms/step - loss: 0.0550 - accuracy: 0.9848 - val_loss: 0.3924 - val_accuracy: 0.9118\n",
            "Epoch 10/15\n",
            "4579/4579 [==============================] - 34s 7ms/step - loss: 0.0380 - accuracy: 0.9895 - val_loss: 0.4345 - val_accuracy: 0.9126\n",
            "Epoch 11/15\n",
            "4579/4579 [==============================] - 34s 7ms/step - loss: 0.0303 - accuracy: 0.9916 - val_loss: 0.4769 - val_accuracy: 0.9052\n",
            "Epoch 12/15\n",
            "4579/4579 [==============================] - 34s 7ms/step - loss: 0.0174 - accuracy: 0.9957 - val_loss: 0.4739 - val_accuracy: 0.9176\n",
            "Epoch 13/15\n",
            "4579/4579 [==============================] - 34s 7ms/step - loss: 0.0104 - accuracy: 0.9976 - val_loss: 0.5313 - val_accuracy: 0.9161\n",
            "Epoch 14/15\n",
            "4579/4579 [==============================] - 34s 7ms/step - loss: 0.0104 - accuracy: 0.9973 - val_loss: 0.5794 - val_accuracy: 0.9106\n",
            "Epoch 15/15\n",
            "4579/4579 [==============================] - 34s 7ms/step - loss: 0.0114 - accuracy: 0.9970 - val_loss: 0.5212 - val_accuracy: 0.9080\n"
          ],
          "name": "stdout"
        }
      ]
    },
    {
      "cell_type": "code",
      "metadata": {
        "id": "P6Wjc8ADvwl7",
        "colab": {
          "base_uri": "https://localhost:8080/",
          "height": 700
        },
        "outputId": "006e63be-b3ff-4f3c-b4fe-86d22d5cea34"
      },
      "source": [
        "import matplotlib.pyplot as plt\n",
        "\n",
        "# ploting the accuracy and loss for training and testing/validation dataset\n",
        "\n",
        "plt.figure(figsize=(10,5))\n",
        "print(history.history.keys())\n",
        "# summarize history for accuracy\n",
        "plt.plot(history.history['accuracy'])\n",
        "plt.plot(history.history['val_accuracy'])\n",
        "plt.title('model accuracy')\n",
        "plt.ylabel('accuracy')\n",
        "plt.xlabel('epoch')\n",
        "plt.legend(['train', 'test'], loc='upper left')\n",
        "plt.show()\n",
        "# summarize history for loss\n",
        "plt.figure(figsize=(10,5))\n",
        "plt.plot(history.history['loss'])\n",
        "plt.plot(history.history['val_loss'])\n",
        "plt.title('model loss')\n",
        "plt.ylabel('loss')\n",
        "plt.xlabel('epoch')\n",
        "plt.legend(['train', 'test'], loc='upper left')\n",
        "plt.show()"
      ],
      "execution_count": null,
      "outputs": [
        {
          "output_type": "stream",
          "text": [
            "dict_keys(['loss', 'accuracy', 'val_loss', 'val_accuracy'])\n"
          ],
          "name": "stdout"
        },
        {
          "output_type": "display_data",
          "data": {
            "image/png": "[encoded data removed]",
            "text/plain": [
              "<Figure size 720x360 with 1 Axes>"
            ]
          },
          "metadata": {
            "tags": [],
            "needs_background": "light"
          }
        },
        {
          "output_type": "display_data",
          "data": {
            "image/png": "[encoded data removed]",
            "text/plain": [
              "<Figure size 720x360 with 1 Axes>"
            ]
          },
          "metadata": {
            "tags": [],
            "needs_background": "light"
          }
        }
      ]
    },
    {
      "cell_type": "code",
      "metadata": {
        "id": "B19E7VHsTJtO"
      },
      "source": [
        "# saving the inference part model\n",
        "# model.save(\"model.h5\")"
      ],
      "execution_count": null,
      "outputs": []
    },
    {
      "cell_type": "code",
      "metadata": {
        "id": "XfUZ2eW2chzS",
        "colab": {
          "base_uri": "https://localhost:8080/"
        },
        "outputId": "d5b44094-5d10-48e0-f20a-044b312aa1fa"
      },
      "source": [
        "# command to see the GPU name and utilization\n",
        "!nvidia-smi"
      ],
      "execution_count": null,
      "outputs": [
        {
          "output_type": "stream",
          "text": [
            "Tue Apr 20 00:29:54 2021       \n",
            "+-----------------------------------------------------------------------------+\n",
            "| NVIDIA-SMI 460.67       Driver Version: 460.32.03    CUDA Version: 11.2     |\n",
            "|-------------------------------+----------------------+----------------------+\n",
            "| GPU  Name        Persistence-M| Bus-Id        Disp.A | Volatile Uncorr. ECC |\n",
            "| Fan  Temp  Perf  Pwr:Usage/Cap|         Memory-Usage | GPU-Util  Compute M. |\n",
            "|                               |                      |               MIG M. |\n",
            "|===============================+======================+======================|\n",
            "|   0  Tesla T4            Off  | 00000000:00:04.0 Off |                    0 |\n",
            "| N/A   76C    P0    42W /  70W |   2884MiB / 15109MiB |      0%      Default |\n",
            "|                               |                      |                  N/A |\n",
            "+-------------------------------+----------------------+----------------------+\n",
            "                                                                               \n",
            "+-----------------------------------------------------------------------------+\n",
            "| Processes:                                                                  |\n",
            "|  GPU   GI   CI        PID   Type   Process name                  GPU Memory |\n",
            "|        ID   ID                                                   Usage      |\n",
            "|=============================================================================|\n",
            "+-----------------------------------------------------------------------------+\n"
          ],
          "name": "stdout"
        }
      ]
    },
    {
      "cell_type": "code",
      "metadata": {
        "id": "uHvu6hs4KY5Z"
      },
      "source": [
        ""
      ],
      "execution_count": null,
      "outputs": []
    }
  ]
}